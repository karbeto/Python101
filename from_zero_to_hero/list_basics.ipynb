{
 "cells": [
  {
   "cell_type": "code",
   "execution_count": 1,
   "metadata": {},
   "outputs": [
    {
     "data": {
      "text/plain": [
       "['banana', 'orange', 'blueberries', 'lemon']"
      ]
     },
     "execution_count": 1,
     "metadata": {},
     "output_type": "execute_result"
    }
   ],
   "source": [
    "#Creating list \n",
    "grocery_list =['banana', 'orange', 'blueberries', 'lemon']\n",
    "\n",
    "grocery_list"
   ]
  },
  {
   "cell_type": "code",
   "execution_count": 2,
   "metadata": {},
   "outputs": [
    {
     "data": {
      "text/plain": [
       "['H', 'e', 'l', 'l', 'o']"
      ]
     },
     "execution_count": 2,
     "metadata": {},
     "output_type": "execute_result"
    }
   ],
   "source": [
    "#Creating list from word\n",
    "word_list = list('Hello')\n",
    "word_list"
   ]
  },
  {
   "cell_type": "code",
   "execution_count": 3,
   "metadata": {},
   "outputs": [
    {
     "data": {
      "text/plain": [
       "['banana', 'orange', 'blueberries', 'lemon', 'cherry']"
      ]
     },
     "execution_count": 3,
     "metadata": {},
     "output_type": "execute_result"
    }
   ],
   "source": [
    "#This is how append is done to the end of the list, O(1) operation\n",
    "grocery_list.append('cherry') \n",
    "grocery_list"
   ]
  },
  {
   "cell_type": "code",
   "execution_count": 4,
   "metadata": {},
   "outputs": [
    {
     "data": {
      "text/plain": [
       "['banana',\n",
       " 'orange',\n",
       " 'blueberries',\n",
       " 'lemon',\n",
       " 'cherry',\n",
       " 'apple',\n",
       " 'strawberry',\n",
       " 'watermelon']"
      ]
     },
     "execution_count": 4,
     "metadata": {},
     "output_type": "execute_result"
    }
   ],
   "source": [
    "#This is how you can add multiple elements to the end of the list\n",
    "grocery_list.extend(['apple', 'strawberry', 'watermelon'])\n",
    "grocery_list"
   ]
  },
  {
   "cell_type": "code",
   "execution_count": 5,
   "metadata": {},
   "outputs": [
    {
     "data": {
      "text/plain": [
       "'watermelon'"
      ]
     },
     "execution_count": 5,
     "metadata": {},
     "output_type": "execute_result"
    }
   ],
   "source": [
    "#remove last element from the list, O(1) operation\n",
    "last_item = grocery_list.pop() #if you specify something like 'orange' it will remove first occurency of that item\n",
    "last_item"
   ]
  },
  {
   "cell_type": "code",
   "execution_count": 6,
   "metadata": {},
   "outputs": [
    {
     "name": "stdout",
     "output_type": "stream",
     "text": [
      "5\n"
     ]
    },
    {
     "data": {
      "text/plain": [
       "'apple'"
      ]
     },
     "execution_count": 6,
     "metadata": {},
     "output_type": "execute_result"
    }
   ],
   "source": [
    "#find index of element in the list\n",
    "element_index = grocery_list.index('apple')\n",
    "print(element_index)\n",
    "grocery_list[5]"
   ]
  },
  {
   "cell_type": "code",
   "execution_count": 7,
   "metadata": {},
   "outputs": [
    {
     "name": "stdout",
     "output_type": "stream",
     "text": [
      "True\n"
     ]
    }
   ],
   "source": [
    "#Check does element exists in the list\n",
    "if 'cherry' in grocery_list:\n",
    "    print('True')"
   ]
  },
  {
   "cell_type": "code",
   "execution_count": 8,
   "metadata": {},
   "outputs": [
    {
     "name": "stdout",
     "output_type": "stream",
     "text": [
      "banana\n",
      "orange\n",
      "blueberries\n",
      "lemon\n",
      "------------\n",
      "banana\n",
      "orange\n",
      "blueberries\n",
      "lemon\n",
      "cherry\n",
      "apple\n",
      "strawberry\n"
     ]
    }
   ],
   "source": [
    "#List has order \n",
    "for i in [0, 1, 2, 3]: #This is O(1) \n",
    "    print(grocery_list[i])\n",
    "    \n",
    "    \n",
    "print('------------')\n",
    "\n",
    "#Here is how you can do it without knowing how much items it has\n",
    "for i in range(len(grocery_list)): #O(n) time where n is number of items\n",
    "    print(grocery_list[i])"
   ]
  },
  {
   "cell_type": "code",
   "execution_count": 9,
   "metadata": {},
   "outputs": [
    {
     "name": "stdout",
     "output_type": "stream",
     "text": [
      "banana\n",
      "orange\n",
      "blueberries\n",
      "lemon\n",
      "cherry\n",
      "apple\n",
      "strawberry\n"
     ]
    }
   ],
   "source": [
    "#This is preffered way to itereate over list in python\n",
    "for item in grocery_list: #O(n) time where n is number of items\n",
    "    print(item)"
   ]
  },
  {
   "cell_type": "code",
   "execution_count": 10,
   "metadata": {},
   "outputs": [
    {
     "data": {
      "text/plain": [
       "'banana'"
      ]
     },
     "execution_count": 10,
     "metadata": {},
     "output_type": "execute_result"
    }
   ],
   "source": [
    "#This is how you can access specific item in this case first, this is O(1) operation\n",
    "grocery_list[0] "
   ]
  },
  {
   "cell_type": "code",
   "execution_count": 11,
   "metadata": {},
   "outputs": [
    {
     "data": {
      "text/plain": [
       "'strawberry'"
      ]
     },
     "execution_count": 11,
     "metadata": {},
     "output_type": "execute_result"
    }
   ],
   "source": [
    "#This is how you can access last element from the list, O(1) operation\n",
    "grocery_list[-1]"
   ]
  },
  {
   "cell_type": "code",
   "execution_count": 12,
   "metadata": {},
   "outputs": [
    {
     "data": {
      "text/plain": [
       "['blueberries', 'lemon', 'cherry']"
      ]
     },
     "execution_count": 12,
     "metadata": {},
     "output_type": "execute_result"
    }
   ],
   "source": [
    "#This is how slicing is done\n",
    "grocery_list[2:5] "
   ]
  },
  {
   "cell_type": "code",
   "execution_count": 13,
   "metadata": {},
   "outputs": [
    {
     "name": "stdout",
     "output_type": "stream",
     "text": [
      "Unsorted list:  ['banana', 'orange', 'blueberries', 'lemon', 'cherry', 'apple', 'strawberry']\n",
      "Sorted list: ['apple', 'banana', 'blueberries', 'cherry', 'lemon', 'orange', 'strawberry']\n"
     ]
    }
   ],
   "source": [
    "#This is how you can sort your list\n",
    "print('Unsorted list: ', grocery_list)\n",
    "grocery_list.sort() #Add parameter 'reverse=True' to reverse list in desc order\n",
    "print('Sorted list:', grocery_list)"
   ]
  },
  {
   "cell_type": "code",
   "execution_count": 14,
   "metadata": {},
   "outputs": [
    {
     "name": "stdout",
     "output_type": "stream",
     "text": [
      "Reversed list ['strawberry', 'orange', 'lemon', 'cherry', 'blueberries', 'banana', 'apple']\n"
     ]
    }
   ],
   "source": [
    "#This is reversing the list\n",
    "grocery_list.reverse() #You can reverse with these too [::-1]\n",
    "print('Reversed list', grocery_list)"
   ]
  },
  {
   "cell_type": "code",
   "execution_count": 15,
   "metadata": {},
   "outputs": [
    {
     "name": "stdout",
     "output_type": "stream",
     "text": [
      "List with duplicate: ['strawberry', 'orange', 'lemon', 'cherry', 'blueberries', 'banana', 'apple', 'cherry']\n",
      "2\n"
     ]
    },
    {
     "data": {
      "text/plain": [
       "['lemon', 'strawberry', 'orange', 'cherry', 'blueberries', 'apple', 'banana']"
      ]
     },
     "execution_count": 15,
     "metadata": {},
     "output_type": "execute_result"
    }
   ],
   "source": [
    "#Removing duplicates from list \n",
    "grocery_list.append('cherry')\n",
    "print('List with duplicate:', grocery_list)\n",
    "\n",
    "#Before removing we can check count of specific element in the list\n",
    "check_element_occurency = grocery_list.count('cherry')\n",
    "print(check_element_occurency)\n",
    "\n",
    "grocery_list = list(set(grocery_list)) #We are creating set(by default set can not have duplicates) and then cast it to list again\n",
    "grocery_list"
   ]
  },
  {
   "cell_type": "code",
   "execution_count": 16,
   "metadata": {},
   "outputs": [
    {
     "data": {
      "text/plain": [
       "[('lemon', 5),\n",
       " ('strawberry', 2),\n",
       " ('orange', 25),\n",
       " ('cherry', 30),\n",
       " ('blueberries', 3),\n",
       " ('apple', 5),\n",
       " ('banana', 7)]"
      ]
     },
     "execution_count": 16,
     "metadata": {},
     "output_type": "execute_result"
    }
   ],
   "source": [
    "#This is zip function that combines this\n",
    "count_of_items = [5, 2, 25, 30, 3, 5, 7]\n",
    "\n",
    "#If any of lists is longer and you explicit dont want that item to be ignored you can pass strict=True argument at the end \n",
    "groceries_with_count = list(zip(grocery_list, count_of_items))\n",
    "groceries_with_count"
   ]
  },
  {
   "cell_type": "code",
   "execution_count": 17,
   "metadata": {},
   "outputs": [
    {
     "name": "stdout",
     "output_type": "stream",
     "text": [
      "Maximum value: ('cherry', 30)\n",
      "Minimum value ('strawberry', 2)\n"
     ]
    }
   ],
   "source": [
    "#This is how you can get max and minimum value\n",
    "\n",
    "#Because this is list of tuples we need to use lambda function to explicit tell function which part of tuple we want to compare\n",
    "max_val = max(groceries_with_count, key=lambda x: x[-1])\n",
    "print('Maximum value:', max_val)\n",
    "min_val = min(groceries_with_count, key=lambda x: x[-1])\n",
    "print('Minimum value', min_val)\n"
   ]
  },
  {
   "cell_type": "code",
   "execution_count": 18,
   "metadata": {},
   "outputs": [
    {
     "data": {
      "text/plain": [
       "{'lemon': 5,\n",
       " 'strawberry': 2,\n",
       " 'orange': 25,\n",
       " 'cherry': 30,\n",
       " 'blueberries': 3,\n",
       " 'apple': 5,\n",
       " 'banana': 7}"
      ]
     },
     "execution_count": 18,
     "metadata": {},
     "output_type": "execute_result"
    }
   ],
   "source": [
    "#Smart to do will be converting this list of tuples into a dictionary\n",
    "\n",
    "groceries_with_count = dict(groceries_with_count)\n",
    "groceries_with_count\n"
   ]
  },
  {
   "cell_type": "markdown",
   "metadata": {},
   "source": [
    "##### List Comprehensions"
   ]
  },
  {
   "cell_type": "code",
   "execution_count": 24,
   "metadata": {},
   "outputs": [
    {
     "data": {
      "text/plain": [
       "[0, 1, 2, 3, 4]"
      ]
     },
     "execution_count": 24,
     "metadata": {},
     "output_type": "execute_result"
    }
   ],
   "source": [
    "#Create list with 5numbers\n",
    "l = [x for x in range(5)]\n",
    "l"
   ]
  },
  {
   "cell_type": "code",
   "execution_count": 27,
   "metadata": {},
   "outputs": [
    {
     "data": {
      "text/plain": [
       "[0, 1, 4, 9, 16]"
      ]
     },
     "execution_count": 27,
     "metadata": {},
     "output_type": "execute_result"
    }
   ],
   "source": [
    "#Numbers with power of two\n",
    "l = [x**2 for x in range(5)]\n",
    "l"
   ]
  },
  {
   "cell_type": "code",
   "execution_count": 29,
   "metadata": {},
   "outputs": [
    {
     "data": {
      "text/plain": [
       "[1, 3, 5, 7, 9]"
      ]
     },
     "execution_count": 29,
     "metadata": {},
     "output_type": "execute_result"
    }
   ],
   "source": [
    "#Add odd numbers to list\n",
    "l = [x for x in range(10) if x % 2 != 0]\n",
    "l"
   ]
  },
  {
   "cell_type": "code",
   "execution_count": 31,
   "metadata": {},
   "outputs": [
    {
     "data": {
      "text/plain": [
       "'Hll'"
      ]
     },
     "execution_count": 31,
     "metadata": {},
     "output_type": "execute_result"
    }
   ],
   "source": [
    "#remove vowels from given string\n",
    "vowels = ['a', 'e', 'i', 'o', 'u']\n",
    "s = 'Hello'\n",
    "\n",
    "without = \"\".join([c for c in s if c not in vowels ])\n",
    "without"
   ]
  },
  {
   "cell_type": "code",
   "execution_count": 33,
   "metadata": {},
   "outputs": [
    {
     "data": {
      "text/plain": [
       "'eo'"
      ]
     },
     "execution_count": 33,
     "metadata": {},
     "output_type": "execute_result"
    }
   ],
   "source": [
    "#remove consonants from given string\n",
    "vowels = ['a', 'e', 'i', 'o', 'u']\n",
    "s = 'Hello'\n",
    "\n",
    "without = \"\".join([c for c in s if c in vowels])\n",
    "without"
   ]
  },
  {
   "cell_type": "code",
   "execution_count": 35,
   "metadata": {},
   "outputs": [
    {
     "data": {
      "text/plain": [
       "[0, 4, 16, 36, 64]"
      ]
     },
     "execution_count": 35,
     "metadata": {},
     "output_type": "execute_result"
    }
   ],
   "source": [
    "#List containing squares of only the even numbers\n",
    "numbers = [x for x in range(10)]\n",
    "\n",
    "square_even = [num**2 for num in numbers if num % 2 == 0]\n",
    "square_even"
   ]
  },
  {
   "cell_type": "code",
   "execution_count": 39,
   "metadata": {},
   "outputs": [
    {
     "data": {
      "text/plain": [
       "'TIIORSRN'"
      ]
     },
     "execution_count": 39,
     "metadata": {},
     "output_type": "execute_result"
    }
   ],
   "source": [
    "#List containing only the uppercase letters\n",
    "string = 'ThIsIsOuRStRiNg'\n",
    "\n",
    "upper = \"\".join([c for c in string if c == c.upper()])\n",
    "upper"
   ]
  },
  {
   "cell_type": "code",
   "execution_count": 43,
   "metadata": {},
   "outputs": [
    {
     "data": {
      "text/plain": [
       "['Hello', 'Friends']"
      ]
     },
     "execution_count": 43,
     "metadata": {},
     "output_type": "execute_result"
    }
   ],
   "source": [
    "#Filter out words that have more than four letters\n",
    "words = ['Hello', 'This', 'Is', 'My', 'Friends', 'Age']\n",
    "\n",
    "four_letters = [w for w in words if len(w) > 4]\n",
    "four_letters\n"
   ]
  },
  {
   "cell_type": "code",
   "execution_count": 53,
   "metadata": {},
   "outputs": [
    {
     "data": {
      "text/plain": [
       "'This_is_my_sentence'"
      ]
     },
     "execution_count": 53,
     "metadata": {},
     "output_type": "execute_result"
    }
   ],
   "source": [
    "#Replace spaces with underscores\n",
    "sentence = 'This is my sentence'\n",
    "\n",
    "change_space = \"\".join([c if c!= ' ' else '_' for c in sentence])\n",
    "change_space"
   ]
  },
  {
   "cell_type": "code",
   "execution_count": 54,
   "metadata": {},
   "outputs": [
    {
     "data": {
      "text/plain": [
       "[1, 2, 4]"
      ]
     },
     "execution_count": 54,
     "metadata": {},
     "output_type": "execute_result"
    }
   ],
   "source": [
    "#Get common elements from 2 lists\n",
    "l1 = [1, 2, 3, 4, 5]\n",
    "l2 = [1, 2, 4, 6, 7, 8]\n",
    "\n",
    "common = [i for i in l1  if i in l2]\n",
    "common"
   ]
  },
  {
   "cell_type": "code",
   "execution_count": 57,
   "metadata": {},
   "outputs": [
    {
     "data": {
      "text/plain": [
       "[1, 2, 3, 2, 4]"
      ]
     },
     "execution_count": 57,
     "metadata": {},
     "output_type": "execute_result"
    }
   ],
   "source": [
    "#Filter negative numbers\n",
    "nums = [1, 2, 3, -1, -5, -2, 2, 4]\n",
    "\n",
    "positive_nums = [n for n in nums if n > 0]\n",
    "positive_nums"
   ]
  },
  {
   "cell_type": "code",
   "execution_count": 71,
   "metadata": {},
   "outputs": [
    {
     "data": {
      "text/plain": [
       "'This will be our ecnetnes that has two words that are more than 5 srettel long'"
      ]
     },
     "execution_count": 71,
     "metadata": {},
     "output_type": "execute_result"
    }
   ],
   "source": [
    "#Reverse words that are longer than five letters\n",
    "sentence2 = 'This will be our sentence that has two words that are more than 5 letters long'\n",
    "\n",
    "rever = \" \".join([w[::-1] if len(w) > 5 else w for w in sentence2.split() ])\n",
    "rever"
   ]
  },
  {
   "cell_type": "code",
   "execution_count": 76,
   "metadata": {},
   "outputs": [
    {
     "data": {
      "text/plain": [
       "'H*ll*'"
      ]
     },
     "execution_count": 76,
     "metadata": {},
     "output_type": "execute_result"
    }
   ],
   "source": [
    "#Replace vowels with *\n",
    "vowels = ['a', 'e', 'i', 'o', 'u']\n",
    "s = 'Hello'\n",
    "\n",
    "replaced = \"\".join([ l if l not in vowels else \"*\" for l in s ])\n",
    "replaced"
   ]
  },
  {
   "cell_type": "code",
   "execution_count": 81,
   "metadata": {},
   "outputs": [
    {
     "data": {
      "text/plain": [
       "['This', 'that', 'noTcaseSensitive']"
      ]
     },
     "execution_count": 81,
     "metadata": {},
     "output_type": "execute_result"
    }
   ],
   "source": [
    "#Filter the words that contain specific letter\n",
    "words = ['This', 'is', 'words', 'that', 'we', 'have,', 'noTcaseSensitive']\n",
    "\n",
    "l = 't'\n",
    "\n",
    "only = [w for w in words if l in w.lower()]\n",
    "only"
   ]
  }
 ],
 "metadata": {
  "kernelspec": {
   "display_name": "base",
   "language": "python",
   "name": "python3"
  },
  "language_info": {
   "codemirror_mode": {
    "name": "ipython",
    "version": 3
   },
   "file_extension": ".py",
   "mimetype": "text/x-python",
   "name": "python",
   "nbconvert_exporter": "python",
   "pygments_lexer": "ipython3",
   "version": "3.12.4"
  }
 },
 "nbformat": 4,
 "nbformat_minor": 2
}
