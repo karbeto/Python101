{
 "cells": [
  {
   "cell_type": "code",
   "execution_count": 15,
   "metadata": {},
   "outputs": [
    {
     "name": "stdout",
     "output_type": "stream",
     "text": [
      "We caught an error\n"
     ]
    }
   ],
   "source": [
    "# Errors in Python\n",
    "\n",
    "# This is a tuple (an immutable object), and we are trying to reassign a value to it\n",
    "t = (1, 2, 3)\n",
    "\n",
    "try:\n",
    "    t[0] = 5  # This will raise a TypeError since tuples are immutable\n",
    "except:\n",
    "    print('We caught an error')  \n"
   ]
  }
 ],
 "metadata": {
  "kernelspec": {
   "display_name": "base",
   "language": "python",
   "name": "python3"
  },
  "language_info": {
   "codemirror_mode": {
    "name": "ipython",
    "version": 3
   },
   "file_extension": ".py",
   "mimetype": "text/x-python",
   "name": "python",
   "nbconvert_exporter": "python",
   "pygments_lexer": "ipython3",
   "version": "3.12.4"
  }
 },
 "nbformat": 4,
 "nbformat_minor": 2
}
