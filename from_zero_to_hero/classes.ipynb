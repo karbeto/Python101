{
 "cells": [
  {
   "cell_type": "code",
   "execution_count": 5,
   "metadata": {},
   "outputs": [
    {
     "name": "stdout",
     "output_type": "stream",
     "text": [
      "My name is John\n",
      "You are older than me\n"
     ]
    }
   ],
   "source": [
    "#This will be our first class\n",
    "class Human:\n",
    "    def __init__(self, name: str, surname: str, age: int):\n",
    "        self.name = name\n",
    "        self.surname = surname\n",
    "        self.age = age\n",
    "    \n",
    "    def __str__(self):\n",
    "        return f\"My name is {self.name}\"  \n",
    "    \n",
    "    def am_i_older(self, age: int):\n",
    "        if self.age > age:\n",
    "            print(\"I'm older than you\")\n",
    "        elif self.age == age:\n",
    "            print('We are the same age')\n",
    "        else:\n",
    "            print(\"You are older than me\")      \n",
    "   \n",
    "        \n",
    "john = Human('John', 'Doe', 25)\n",
    "print(john)\n",
    "john.am_i_older(26)"
   ]
  },
  {
   "cell_type": "code",
   "execution_count": 46,
   "metadata": {},
   "outputs": [],
   "source": [
    "#Simple Warehouse class\n",
    "import random\n",
    "\n",
    "class Warehouse:\n",
    "    def __init__(self, warehouse_id: int):\n",
    "        self.warehouse_id = warehouse_id\n",
    "        self.items = {}\n",
    "    \n",
    "    def add_item(self, name: str, value: int):\n",
    "        if value < 0:\n",
    "            raise ValueError('Quantity can\\'t be negative number')\n",
    "        if name not in self.items:\n",
    "            self.items[name] = value\n",
    "        else:\n",
    "            self.items[name] += value\n",
    "    \n",
    "    def remove_item(self, name: str, value: int):\n",
    "        if name not in self.items:\n",
    "            raise ValueError(f'Item {name} not found in the warehouse')\n",
    "        if value > self.items[name]:\n",
    "            raise ValueError(f'Not enough quantity of {name} to remove.')\n",
    "        if value < 0:\n",
    "            raise ValueError('Quantity can\\'t be negative number')\n",
    "        else:\n",
    "            self.items[name] -= value\n",
    "            if self.items[name] == 0:\n",
    "                del self.items[name]\n",
    "    \n",
    "    def check_item(self, name: str) -> int:\n",
    "        if name not in self.items:\n",
    "            return 0\n",
    "        \n",
    "        return self.items[name] \n",
    "        \n",
    "    def __add__(self, other):\n",
    "        if not isinstance(other, Warehouse):\n",
    "            raise TypeError(\"You can only combine with another Warehouse.\")\n",
    "        \n",
    "        new_warehouse_id = random.randint(1000, 9999)\n",
    "        combined_warehouse = Warehouse(new_warehouse_id)\n",
    "        \n",
    "        for article, quantity in self.items.items():\n",
    "            combined_warehouse.add_item(article, quantity)\n",
    "        for article, quantity in other.items.items():\n",
    "            combined_warehouse.add_item(article, quantity)\n",
    "\n",
    "        return combined_warehouse\n",
    "    \n",
    "    def __str__(self):\n",
    "        return f\"Warehouse ID: {self.warehouse_id}, Items: {self.items}\"  \n",
    "        \n"
   ]
  },
  {
   "cell_type": "code",
   "execution_count": 50,
   "metadata": {},
   "outputs": [
    {
     "name": "stdout",
     "output_type": "stream",
     "text": [
      "Warehouse ID: 1, Items: {'Oranges': 50, 'Apples': 50}\n",
      "Warehouse ID: 2, Items: {'Apples': 40, 'Oranges': 72, 'Blueberries': 72}\n"
     ]
    }
   ],
   "source": [
    "warehouse1 = Warehouse(1)\n",
    "warehouse1.add_item('Apples', 50)        \n",
    "warehouse1.add_item('Oranges', 50)        \n",
    "\n",
    "warehouse1.remove_item('Apples', 45)\n",
    "warehouse1.remove_item('Apples', 5)\n",
    "\n",
    "warehouse1.add_item('Apples', 50)    \n",
    "\n",
    "warehouse1.check_item('Oranges')\n",
    "\n",
    "warehouse2 = Warehouse(2)\n",
    "warehouse2.add_item('Apples', 40)        \n",
    "warehouse2.add_item('Oranges', 72)   \n",
    "warehouse2.add_item('Blueberries', 72)\n",
    "\n",
    "combined_warehouses = warehouse1 + warehouse2   \n",
    "\n",
    "print(warehouse1)\n",
    "print(warehouse2)"
   ]
  },
  {
   "cell_type": "code",
   "execution_count": 49,
   "metadata": {},
   "outputs": [
    {
     "name": "stdout",
     "output_type": "stream",
     "text": [
      "Warehouse ID: 9433, Items: {'Oranges': 122, 'Apples': 90, 'Blueberries': 72}\n"
     ]
    }
   ],
   "source": [
    "print(combined_warehouses)"
   ]
  }
 ],
 "metadata": {
  "kernelspec": {
   "display_name": "base",
   "language": "python",
   "name": "python3"
  },
  "language_info": {
   "codemirror_mode": {
    "name": "ipython",
    "version": 3
   },
   "file_extension": ".py",
   "mimetype": "text/x-python",
   "name": "python",
   "nbconvert_exporter": "python",
   "pygments_lexer": "ipython3",
   "version": "3.12.4"
  }
 },
 "nbformat": 4,
 "nbformat_minor": 2
}
