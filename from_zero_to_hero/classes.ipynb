{
 "cells": [
  {
   "cell_type": "code",
   "execution_count": 17,
   "metadata": {},
   "outputs": [
    {
     "name": "stdout",
     "output_type": "stream",
     "text": [
      "My name is John\n",
      "You are older than me\n"
     ]
    }
   ],
   "source": [
    "#This will be our first class\n",
    "class Human:\n",
    "    def __init__(self, name, surname, age):\n",
    "        self.name = name\n",
    "        self.surname = surname\n",
    "        self.age = age\n",
    "    \n",
    "    def __str__(self):\n",
    "        return f\"My name is {self.name}\"  \n",
    "    \n",
    "    def am_i_older(self, age):\n",
    "        if self.age > age:\n",
    "            print(\"I'm older than you\")\n",
    "        elif self.age == age:\n",
    "            print('We are the same age')\n",
    "        else:\n",
    "            print(\"You are older than me\")      \n",
    "   \n",
    "        \n",
    "john = Human('John', 'Doe', 25)\n",
    "print(john)\n",
    "john.am_i_older(26)"
   ]
  },
  {
   "cell_type": "code",
   "execution_count": null,
   "metadata": {},
   "outputs": [],
   "source": []
  }
 ],
 "metadata": {
  "kernelspec": {
   "display_name": "base",
   "language": "python",
   "name": "python3"
  },
  "language_info": {
   "codemirror_mode": {
    "name": "ipython",
    "version": 3
   },
   "file_extension": ".py",
   "mimetype": "text/x-python",
   "name": "python",
   "nbconvert_exporter": "python",
   "pygments_lexer": "ipython3",
   "version": "3.12.4"
  }
 },
 "nbformat": 4,
 "nbformat_minor": 2
}
