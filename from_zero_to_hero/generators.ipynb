{
 "cells": [
  {
   "cell_type": "code",
   "execution_count": 78,
   "metadata": {},
   "outputs": [
    {
     "name": "stdout",
     "output_type": "stream",
     "text": [
      "0\n",
      "2\n",
      "4\n",
      "6\n"
     ]
    }
   ],
   "source": [
    "#Generator Pattern\n",
    "\n",
    "#Genarates even numbers\n",
    "def evens():\n",
    "    n = 0\n",
    "    \n",
    "    while True:\n",
    "        if n % 2 == 0:\n",
    "            yield(n)\n",
    "        n += 1 \n",
    "        \n",
    "    \n",
    "even = evens()\n",
    "print(next(even))\n",
    "print(next(even))\n",
    "print(next(even))\n",
    "print(next(even))\n",
    "\n"
   ]
  },
  {
   "cell_type": "code",
   "execution_count": 3,
   "metadata": {},
   "outputs": [
    {
     "name": "stdout",
     "output_type": "stream",
     "text": [
      "1\n",
      "3\n",
      "5\n",
      "7\n"
     ]
    }
   ],
   "source": [
    "#Generate odd numbers\n",
    "def odds():\n",
    "    n = 0\n",
    "    while True:\n",
    "        if n % 2 != 0:\n",
    "            yield(n)\n",
    "        n += 1\n",
    "            \n",
    "\n",
    "odd = odds()\n",
    "print(next(odd))\n",
    "print(next(odd))\n",
    "print(next(odd))\n",
    "print(next(odd))\n"
   ]
  },
  {
   "cell_type": "code",
   "execution_count": 91,
   "metadata": {},
   "outputs": [
    {
     "name": "stdout",
     "output_type": "stream",
     "text": [
      "0\n",
      "1\n"
     ]
    }
   ],
   "source": [
    "#Number sequence\n",
    "def number_sequence():\n",
    "    n = 0\n",
    "    while True:\n",
    "        yield n\n",
    "        n += 1\n",
    "\n",
    "\n",
    "gen = number_sequence()\n",
    "print(next(gen))  # 0\n",
    "print(next(gen))  # 1"
   ]
  },
  {
   "cell_type": "code",
   "execution_count": 89,
   "metadata": {},
   "outputs": [
    {
     "name": "stdout",
     "output_type": "stream",
     "text": [
      "H\n",
      "e\n",
      "l\n",
      "l\n",
      "o\n"
     ]
    }
   ],
   "source": [
    "#Chars from string\n",
    "def char_generator(string):\n",
    "    for c in string:\n",
    "        yield(c)\n",
    "        \n",
    "char = char_generator('Hello')\n",
    "print(next(char))\n",
    "print(next(char))\n",
    "print(next(char))\n",
    "print(next(char))\n",
    "print(next(char))\n"
   ]
  },
  {
   "cell_type": "code",
   "execution_count": 83,
   "metadata": {},
   "outputs": [
    {
     "name": "stdout",
     "output_type": "stream",
     "text": [
      "1\n",
      "2\n",
      "3\n"
     ]
    }
   ],
   "source": [
    "#Fibonacci sequence\n",
    "def fibonacci():\n",
    "    a, b = 0, 1\n",
    "    \n",
    "    while True:\n",
    "        n = a + b\n",
    "        yield(n)\n",
    "        a, b = b, a + b\n",
    "        \n",
    "        \n",
    "fib = fibonacci()\n",
    "\n",
    "print(next(fib))\n",
    "print(next(fib))\n",
    "print(next(fib))"
   ]
  },
  {
   "cell_type": "code",
   "execution_count": 26,
   "metadata": {},
   "outputs": [
    {
     "name": "stdout",
     "output_type": "stream",
     "text": [
      "0\n",
      "1\n",
      "4\n",
      "9\n",
      "16\n",
      "25\n"
     ]
    }
   ],
   "source": [
    "#Square of numbers from 0 to n\n",
    "def squares(n):\n",
    "    for n in range(n+1):\n",
    "        yield(n**2)\n",
    "    \n",
    "    \n",
    "sq = squares(5)\n",
    "\n",
    "print(next(sq))\n",
    "print(next(sq))\n",
    "print(next(sq))\n",
    "print(next(sq))\n",
    "print(next(sq))\n",
    "print(next(sq))\n"
   ]
  },
  {
   "cell_type": "code",
   "execution_count": 84,
   "metadata": {},
   "outputs": [
    {
     "name": "stdout",
     "output_type": "stream",
     "text": [
      "0\n",
      "-1\n",
      "2\n"
     ]
    }
   ],
   "source": [
    "#Functions that alternates between positive and negative numbers\n",
    "def alternating():\n",
    "    n = 0\n",
    "    \n",
    "    while True:\n",
    "        yield(n)\n",
    "        yield(-n-1)\n",
    "        n += 2\n",
    "        \n",
    "alt = alternating()\n",
    "\n",
    "print(next(alt))\n",
    "print(next(alt))\n",
    "print(next(alt))"
   ]
  },
  {
   "cell_type": "code",
   "execution_count": 125,
   "metadata": {},
   "outputs": [
    {
     "name": "stdout",
     "output_type": "stream",
     "text": [
      "9\n",
      "11\n",
      "22\n"
     ]
    },
    {
     "data": {
      "text/plain": [
       "[33, 44, 55, 66, 77, 88, 99, 101, 111, 121]"
      ]
     },
     "execution_count": 125,
     "metadata": {},
     "output_type": "execute_result"
    }
   ],
   "source": [
    "#Generator that generates palindromes starting from a given number n.\n",
    "\n",
    "def generate_palindrome(n):\n",
    "    \n",
    "    while True:\n",
    "        if str(n) == str(n)[::-1]:\n",
    "            yield(n)\n",
    "        n += 1\n",
    "            \n",
    "palindrome = generate_palindrome(9)\n",
    "\n",
    "print(next(palindrome))\n",
    "print(next(palindrome))\n",
    "print(next(palindrome))\n",
    "\n",
    "ten_palindromes = [next(palindrome) for _ in range (10)]\n",
    "    \n",
    "\n",
    "ten_palindromes"
   ]
  },
  {
   "cell_type": "code",
   "execution_count": 155,
   "metadata": {},
   "outputs": [],
   "source": [
    "#Generator that generates the square roots of the numbers between two given numbers a and b.\n",
    "from math import sqrt\n",
    "\n",
    "def square_between_nums(a, b):\n",
    "    while a < b :\n",
    "        yield sqrt(a)\n",
    "        a += 1\n",
    "        \n",
    "sq = square_between_nums(6, 10)\n",
    "\n"
   ]
  },
  {
   "cell_type": "code",
   "execution_count": 156,
   "metadata": {},
   "outputs": [
    {
     "name": "stdout",
     "output_type": "stream",
     "text": [
      "2.449489742783178\n"
     ]
    }
   ],
   "source": [
    "print(next(sq))"
   ]
  },
  {
   "cell_type": "code",
   "execution_count": 11,
   "metadata": {},
   "outputs": [
    {
     "name": "stdout",
     "output_type": "stream",
     "text": [
      "0\n",
      "1\n",
      "2\n",
      "3\n",
      "4\n"
     ]
    }
   ],
   "source": [
    "#Asynchronous generator that yields numbers every interval seconds up to n.\n",
    "import asyncio\n",
    "\n",
    "async def async_timer(n, interval):\n",
    "    for i in range(n):\n",
    "        await asyncio.sleep(interval)\n",
    "        yield (i)\n",
    "        \n",
    "   \n",
    "async def main():\n",
    "    async for num in async_timer(5, 2):\n",
    "        print(num)\n",
    "        \n",
    "    \n",
    "        \n",
    "await main()"
   ]
  }
 ],
 "metadata": {
  "kernelspec": {
   "display_name": "base",
   "language": "python",
   "name": "python3"
  },
  "language_info": {
   "codemirror_mode": {
    "name": "ipython",
    "version": 3
   },
   "file_extension": ".py",
   "mimetype": "text/x-python",
   "name": "python",
   "nbconvert_exporter": "python",
   "pygments_lexer": "ipython3",
   "version": "3.12.4"
  }
 },
 "nbformat": 4,
 "nbformat_minor": 2
}
