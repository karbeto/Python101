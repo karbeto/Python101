{
 "cells": [
  {
   "cell_type": "code",
   "execution_count": 12,
   "metadata": {},
   "outputs": [
    {
     "data": {
      "text/plain": [
       "\"It's a fruit that is high in Vitamin C\""
      ]
     },
     "execution_count": 12,
     "metadata": {},
     "output_type": "execute_result"
    }
   ],
   "source": [
    "#This is how to create a dictionary\n",
    "#Dictionary stores key:value pairs something similar to JSON\n",
    "\n",
    "d = {'Lemon' : 'It\\'s a fruit that is high in Vitamin C', #\\ is escape char, you can use \"\" if you want too\n",
    "     'Banana': \"It's a vegetable that is hign in pottasium\",} \n",
    "\n",
    "#This is how you can access value in dict\n",
    "d['Lemon']"
   ]
  },
  {
   "cell_type": "code",
   "execution_count": 13,
   "metadata": {},
   "outputs": [
    {
     "data": {
      "text/plain": [
       "\"It's a fruit that is hign in pottasium\""
      ]
     },
     "execution_count": 13,
     "metadata": {},
     "output_type": "execute_result"
    }
   ],
   "source": [
    "#This is how you can change value\n",
    "d['Banana'] = \"It's a fruit that is hign in pottasium\"\n",
    "\n",
    "d['Banana']"
   ]
  },
  {
   "cell_type": "code",
   "execution_count": 14,
   "metadata": {},
   "outputs": [
    {
     "data": {
      "text/plain": [
       "{'Lemon': \"It's a fruit that is high in Vitamin C\"}"
      ]
     },
     "execution_count": 14,
     "metadata": {},
     "output_type": "execute_result"
    }
   ],
   "source": [
    "#This is how you remove something from dict\n",
    "del d['Banana']\n",
    "\n",
    "d"
   ]
  },
  {
   "cell_type": "code",
   "execution_count": 20,
   "metadata": {},
   "outputs": [
    {
     "name": "stdout",
     "output_type": "stream",
     "text": [
      "Lemon It's a fruit that is high in Vitamin C\n"
     ]
    }
   ],
   "source": [
    "#Iterate over items in dict\n",
    "for key in d.keys():\n",
    "    print(key, d[key])"
   ]
  },
  {
   "cell_type": "code",
   "execution_count": 21,
   "metadata": {},
   "outputs": [
    {
     "name": "stdout",
     "output_type": "stream",
     "text": [
      "{'a': 1, 'b': 2, 'c': 3}\n"
     ]
    }
   ],
   "source": [
    "#Invert keys and values\n",
    "my_dict = {1: 'a', 2: 'b', 3: 'c'}\n",
    "\n",
    "invert = invert = {v: k for k, v in my_dict.items()}\n",
    "\n",
    "print(invert)"
   ]
  }
 ],
 "metadata": {
  "kernelspec": {
   "display_name": "base",
   "language": "python",
   "name": "python3"
  },
  "language_info": {
   "codemirror_mode": {
    "name": "ipython",
    "version": 3
   },
   "file_extension": ".py",
   "mimetype": "text/x-python",
   "name": "python",
   "nbconvert_exporter": "python",
   "pygments_lexer": "ipython3",
   "version": "3.12.4"
  }
 },
 "nbformat": 4,
 "nbformat_minor": 2
}
