{
 "cells": [
  {
   "cell_type": "code",
   "execution_count": 12,
   "metadata": {},
   "outputs": [
    {
     "name": "stdout",
     "output_type": "stream",
     "text": [
      "Hello Sashe\n"
     ]
    }
   ],
   "source": [
    "#First function\n",
    "def hello_user(user):\n",
    "    #User is parameter of this function, it lives in function scope and it is not accessible outside \n",
    "    print('Hello ' + user)\n",
    "    \n",
    "hello_user('Sashe')"
   ]
  },
  {
   "cell_type": "code",
   "execution_count": 11,
   "metadata": {},
   "outputs": [
    {
     "data": {
      "text/plain": [
       "20"
      ]
     },
     "execution_count": 11,
     "metadata": {},
     "output_type": "execute_result"
    }
   ],
   "source": [
    "#Function that multiplies by 2 and how you can leave note what it does\n",
    "def times_2(number):\n",
    "    '''This functions returns number multiplied by two'''\n",
    "    return number * 2\n",
    "\n",
    "times_2(10)\n",
    "\n"
   ]
  },
  {
   "cell_type": "code",
   "execution_count": 10,
   "metadata": {},
   "outputs": [
    {
     "data": {
      "text/plain": [
       "40"
      ]
     },
     "execution_count": 10,
     "metadata": {},
     "output_type": "execute_result"
    }
   ],
   "source": [
    "#Why limiting the function?\n",
    "def multiply(number1, number2):\n",
    "    '''This functions returns two numbers multiplied by eachother'''\n",
    "    return number1 * number2\n",
    "\n",
    "\n",
    "multiply(10, 4)"
   ]
  },
  {
   "cell_type": "code",
   "execution_count": 13,
   "metadata": {},
   "outputs": [
    {
     "name": "stdout",
     "output_type": "stream",
     "text": [
      "Original Grocery list:  ['Apple', 'Banana', 'Cherry']\n",
      "After calling our function:  ['Apple', 'Banana', 'Cherry', 'Lemon']\n"
     ]
    }
   ],
   "source": [
    "#Functions that adds item to the list\n",
    "def add_item_to_list(your_list, item):\n",
    "    your_list.append(item)\n",
    "    \n",
    "grocery_list = ['Apple', 'Banana', 'Cherry']\n",
    "print('Original Grocery list: ', grocery_list)\n",
    "\n",
    "add_item_to_list(grocery_list, 'Lemon')\n",
    "\n",
    "print('After calling our function: ', grocery_list)"
   ]
  },
  {
   "cell_type": "code",
   "execution_count": 20,
   "metadata": {},
   "outputs": [
    {
     "name": "stdout",
     "output_type": "stream",
     "text": [
      "3\n",
      "8\n",
      "45\n"
     ]
    }
   ],
   "source": [
    "#Default value in functions\n",
    "def add_up_to_four_numbers(num1, num2, num3=0, num4=0):\n",
    "    '''This is a function where you can add up to 4 numbers(minimum required is 2)'''\n",
    "    return num1 + num2 + num3 + num4\n",
    "\n",
    "\n",
    "two_nums = add_up_to_four_numbers(1, 2)    \n",
    "print(two_nums)\n",
    "three_nums = add_up_to_four_numbers(1, 2, 5)\n",
    "print(three_nums)\n",
    "four_nums = add_up_to_four_numbers(5, 10, 15, 15)\n",
    "print(four_nums)"
   ]
  },
  {
   "cell_type": "code",
   "execution_count": null,
   "metadata": {},
   "outputs": [],
   "source": []
  }
 ],
 "metadata": {
  "kernelspec": {
   "display_name": "base",
   "language": "python",
   "name": "python3"
  },
  "language_info": {
   "codemirror_mode": {
    "name": "ipython",
    "version": 3
   },
   "file_extension": ".py",
   "mimetype": "text/x-python",
   "name": "python",
   "nbconvert_exporter": "python",
   "pygments_lexer": "ipython3",
   "version": "3.12.4"
  }
 },
 "nbformat": 4,
 "nbformat_minor": 2
}
